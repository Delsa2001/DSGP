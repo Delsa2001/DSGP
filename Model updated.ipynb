{
  "nbformat": 4,
  "nbformat_minor": 0,
  "metadata": {
    "colab": {
      "provenance": [],
      "authorship_tag": "ABX9TyM34f0d5ZAobyRxt7YQMTA/",
      "include_colab_link": true
    },
    "kernelspec": {
      "name": "python3",
      "display_name": "Python 3"
    },
    "language_info": {
      "name": "python"
    }
  },
  "cells": [
    {
      "cell_type": "markdown",
      "metadata": {
        "id": "view-in-github",
        "colab_type": "text"
      },
      "source": [
        "<a href=\"https://colab.research.google.com/github/Delsa2001/DSGP/blob/Deshan/Model%20updated.ipynb\" target=\"_parent\"><img src=\"https://colab.research.google.com/assets/colab-badge.svg\" alt=\"Open In Colab\"/></a>"
      ]
    },
    {
      "cell_type": "code",
      "execution_count": 1,
      "metadata": {
        "colab": {
          "base_uri": "https://localhost:8080/"
        },
        "id": "dlHLnpMZPyP7",
        "outputId": "90ae73a1-3fb9-4bf2-86aa-e0d3c4eca992"
      },
      "outputs": [
        {
          "output_type": "stream",
          "name": "stdout",
          "text": [
            "Accuracy: 1.0\n",
            "\n",
            "Classification Report:\n",
            "               precision    recall  f1-score   support\n",
            "\n",
            "           0       1.00      1.00      1.00       366\n",
            "           1       1.00      1.00      1.00       365\n",
            "\n",
            "    accuracy                           1.00       731\n",
            "   macro avg       1.00      1.00      1.00       731\n",
            "weighted avg       1.00      1.00      1.00       731\n",
            "\n",
            "\n",
            "Confusion Matrix:\n",
            " [[366   0]\n",
            " [  0 365]]\n"
          ]
        }
      ],
      "source": [
        "# Step 1: Import necessary libraries\n",
        "import pandas as pd\n",
        "from sklearn.model_selection import train_test_split\n",
        "from sklearn.preprocessing import LabelEncoder\n",
        "from sklearn.ensemble import RandomForestClassifier\n",
        "from sklearn.metrics import classification_report, accuracy_score, confusion_matrix\n",
        "\n",
        "# Step 2: Load the datasets\n",
        "galle_weather = pd.read_csv('galle_weather_updated.csv')\n",
        "colombo_weather = pd.read_csv('colombo_weather_updated.csv')\n",
        "\n",
        "# Step 3: Combine the datasets and preprocess\n",
        "galle_weather['Location'] = 'Galle'\n",
        "colombo_weather['Location'] = 'Colombo'\n",
        "combined_weather = pd.concat([galle_weather, colombo_weather], ignore_index=True)\n",
        "\n",
        "# Convert 'Date' to datetime format and drop the column\n",
        "combined_weather['Date'] = pd.to_datetime(combined_weather['Date'], format='%Y%m%d')\n",
        "combined_weather = combined_weather.drop(columns=['Date'])\n",
        "\n",
        "# Encode the target variable 'Suitable_Plant_Type'\n",
        "label_encoder = LabelEncoder()\n",
        "combined_weather['Suitable_Plant_Type'] = label_encoder.fit_transform(combined_weather['Suitable_Plant_Type'])\n",
        "\n",
        "# One-hot encode the 'Location' column\n",
        "combined_weather = pd.get_dummies(combined_weather, columns=['Location'], drop_first=True)\n",
        "\n",
        "# Step 4: Split the data into features (X) and target (y)\n",
        "X = combined_weather.drop(columns=['Suitable_Plant_Type'])\n",
        "y = combined_weather['Suitable_Plant_Type']\n",
        "\n",
        "# Split into training and testing sets (80% train, 20% test)\n",
        "X_train, X_test, y_train, y_test = train_test_split(X, y, test_size=0.2, random_state=42, stratify=y)\n",
        "\n",
        "# Step 5: Train the Random Forest model\n",
        "rf_model = RandomForestClassifier(random_state=42, n_estimators=100)\n",
        "rf_model.fit(X_train, y_train)\n",
        "\n",
        "# Step 6: Predict and evaluate\n",
        "y_pred = rf_model.predict(X_test)\n",
        "\n",
        "# Step 7: Evaluate the model\n",
        "accuracy = accuracy_score(y_test, y_pred)\n",
        "classification_report_output = classification_report(y_test, y_pred)\n",
        "confusion_mat = confusion_matrix(y_test, y_pred)\n",
        "\n",
        "# Print results\n",
        "print(\"Accuracy:\", accuracy)\n",
        "print(\"\\nClassification Report:\\n\", classification_report_output)\n",
        "print(\"\\nConfusion Matrix:\\n\", confusion_mat)\n"
      ]
    },
    {
      "cell_type": "code",
      "source": [
        "\n",
        "from sklearn.model_selection import cross_val_score\n",
        "scores = cross_val_score(rf_model, X, y, cv=5, scoring='accuracy')\n",
        "print(\"Cross-Validation Accuracy Scores:\", scores)\n",
        "print(\"Mean Accuracy:\", scores.mean())\n"
      ],
      "metadata": {
        "colab": {
          "base_uri": "https://localhost:8080/"
        },
        "id": "-VNdlBTVP5Nr",
        "outputId": "7e83571d-3498-48eb-923c-74ba558f7e65"
      },
      "execution_count": 2,
      "outputs": [
        {
          "output_type": "stream",
          "name": "stdout",
          "text": [
            "Cross-Validation Accuracy Scores: [1. 1. 1. 1. 1.]\n",
            "Mean Accuracy: 1.0\n"
          ]
        }
      ]
    },
    {
      "cell_type": "code",
      "source": [
        "feature_importances = rf_model.feature_importances_\n",
        "for name, importance in zip(X.columns, feature_importances):\n",
        "    print(f\"{name}: {importance:.4f}\")\n",
        "\n"
      ],
      "metadata": {
        "colab": {
          "base_uri": "https://localhost:8080/"
        },
        "id": "zdaMODmkP_-r",
        "outputId": "0868df43-c655-4af8-c138-0c0391445094"
      },
      "execution_count": 3,
      "outputs": [
        {
          "output_type": "stream",
          "name": "stdout",
          "text": [
            "Temperature: 0.1480\n",
            "Precipitation: 0.0040\n",
            "Humidity: 0.0241\n",
            "Location_Galle: 0.8239\n"
          ]
        }
      ]
    },
    {
      "cell_type": "code",
      "source": [
        "X_no_location = X.drop(columns=['Location_Galle'])\n",
        "X_train_no_loc, X_test_no_loc, y_train_no_loc, y_test_no_loc = train_test_split(\n",
        "    X_no_location, y, test_size=0.2, random_state=42, stratify=y\n",
        ")\n",
        "rf_model_no_loc = RandomForestClassifier(random_state=42, n_estimators=100)\n",
        "rf_model_no_loc.fit(X_train_no_loc, y_train_no_loc)\n",
        "y_pred_no_loc = rf_model_no_loc.predict(X_test_no_loc)\n",
        "print(\"Accuracy without Location:\", accuracy_score(y_test_no_loc, y_pred_no_loc))\n",
        "print(\"\\nClassification Report:\\n\", classification_report(y_test_no_loc, y_pred_no_loc))\n"
      ],
      "metadata": {
        "colab": {
          "base_uri": "https://localhost:8080/"
        },
        "id": "-mxN8FMtQAny",
        "outputId": "574ae3c4-b3f1-4a23-b305-58e07c432142"
      },
      "execution_count": 4,
      "outputs": [
        {
          "output_type": "stream",
          "name": "stdout",
          "text": [
            "Accuracy without Location: 0.7756497948016415\n",
            "\n",
            "Classification Report:\n",
            "               precision    recall  f1-score   support\n",
            "\n",
            "           0       0.77      0.79      0.78       366\n",
            "           1       0.78      0.76      0.77       365\n",
            "\n",
            "    accuracy                           0.78       731\n",
            "   macro avg       0.78      0.78      0.78       731\n",
            "weighted avg       0.78      0.78      0.78       731\n",
            "\n"
          ]
        }
      ]
    }
  ]
}