{
 "cells": [
  {
   "cell_type": "code",
   "execution_count": 12,
   "metadata": {},
   "outputs": [],
   "source": [
    "import os\n",
    "from PIL import Image\n",
    "import numpy as np\n",
    "from tensorflow.keras.preprocessing.image import ImageDataGenerator"
   ]
  },
  {
   "cell_type": "code",
   "execution_count": 2,
   "metadata": {},
   "outputs": [],
   "source": [
    "dataGenerator = ImageDataGenerator(\n",
    "    rotation_range = 15,\n",
    "    width_shift_range = 0.1,\n",
    "    height_shift_range = 0.1,\n",
    "    shear_range = 0.1,\n",
    "    zoom_range = 0.1,\n",
    "    horizontal_flip = True,\n",
    "    brightness_range = [0.8,1.2]\n",
    ")"
   ]
  },
  {
   "cell_type": "code",
   "execution_count": 14,
   "metadata": {},
   "outputs": [],
   "source": [
    "def augment_images(image_path, save_dir, number_of_copies):\n",
    "    image = Image.open(image_path).convert(\"RGB\")\n",
    "\n",
    "    if not image_path.lower().endswith(\".jpg\"):\n",
    "        temp_path = os.path.join(save_dir,\"temporary_image.jpg\")\n",
    "        image.save(temp_path,format=\"JPEG\")\n",
    "        image_path = temp_path\n",
    "    \n",
    "    x = np.array(image)\n",
    "    x = x.reshape((1,) + x.shape)\n",
    "\n",
    "    i = 0\n",
    "    for batch in dataGenerator.flow(x, batch_size=1,save_to_dir=save_dir,save_prefix='aug',save_format='jpg'):\n",
    "        i += 1\n",
    "        if i>number_of_copies:\n",
    "            break\n",
    "\n",
    "    if \"temp_image.jpg\" in image_path:\n",
    "        os.remove(image_path)"
   ]
  },
  {
   "cell_type": "code",
   "execution_count": 16,
   "metadata": {},
   "outputs": [],
   "source": [
    "original_image_folder = r\"E:\\IIT Year 2\\Sem 1\\DSGP\\indoor\"\n",
    "augmented_image_folder = r\"E:\\IIT Year 2\\Sem 1\\DSGP\\augmented_indoor\"\n",
    "\n",
    "number_of_copies = 5\n",
    "\n",
    "for filename in os.listdir(original_image_folder):\n",
    "    Image_path = os.path.join(original_image_folder,filename)\n",
    "\n",
    "    augment_images(image_path=Image_path,save_dir=augmented_image_folder,number_of_copies=number_of_copies)\n"
   ]
  }
 ],
 "metadata": {
  "kernelspec": {
   "display_name": "Python 3",
   "language": "python",
   "name": "python3"
  },
  "language_info": {
   "codemirror_mode": {
    "name": "ipython",
    "version": 3
   },
   "file_extension": ".py",
   "mimetype": "text/x-python",
   "name": "python",
   "nbconvert_exporter": "python",
   "pygments_lexer": "ipython3",
   "version": "3.12.3"
  }
 },
 "nbformat": 4,
 "nbformat_minor": 2
}
