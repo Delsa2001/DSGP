{
  "nbformat": 4,
  "nbformat_minor": 0,
  "metadata": {
    "colab": {
      "provenance": [],
      "authorship_tag": "ABX9TyMPCEvDOXBx+j+nMyv5GUtN",
      "include_colab_link": true
    },
    "kernelspec": {
      "name": "python3",
      "display_name": "Python 3"
    },
    "language_info": {
      "name": "python"
    }
  },
  "cells": [
    {
      "cell_type": "markdown",
      "metadata": {
        "id": "view-in-github",
        "colab_type": "text"
      },
      "source": [
        "<a href=\"https://colab.research.google.com/github/Delsa2001/DSGP/blob/Deshan/Model%20updated%20latest.ipynb\" target=\"_parent\"><img src=\"https://colab.research.google.com/assets/colab-badge.svg\" alt=\"Open In Colab\"/></a>"
      ]
    },
    {
      "cell_type": "code",
      "source": [
        "# Step 1: Import necessary libraries\n",
        "import pandas as pd\n",
        "import numpy as np\n",
        "import seaborn as sns\n",
        "import matplotlib.pyplot as plt\n",
        "from sklearn.model_selection import train_test_split\n",
        "from sklearn.preprocessing import LabelEncoder\n",
        "from sklearn.ensemble import RandomForestClassifier\n",
        "from sklearn.metrics import classification_report, accuracy_score, confusion_matrix\n"
      ],
      "metadata": {
        "id": "7kK8EpqBp1Cf"
      },
      "execution_count": 3,
      "outputs": []
    },
    {
      "cell_type": "code",
      "execution_count": 4,
      "metadata": {
        "colab": {
          "base_uri": "https://localhost:8080/"
        },
        "id": "dlHLnpMZPyP7",
        "outputId": "2602096f-9024-441f-86c2-68a3b9d9f95f"
      },
      "outputs": [
        {
          "output_type": "stream",
          "name": "stdout",
          "text": [
            "Combined weather file has been saved as 'combined_weather.csv'.\n"
          ]
        }
      ],
      "source": [
        "\n",
        "\n",
        "# Step 2: Load the datasets\n",
        "galle_weather = pd.read_csv('galle_weather_updated.csv')\n",
        "colombo_weather = pd.read_csv('colombo_weather_updated.csv')\n",
        "\n",
        "# Step 3: Combine the datasets and preprocess\n",
        "galle_weather['Location'] = 'Galle'\n",
        "colombo_weather['Location'] = 'Colombo'\n",
        "combined_weather = pd.concat([galle_weather, colombo_weather], ignore_index=True)\n",
        "\n",
        "# Save the combined dataset to a CSV file\n",
        "combined_weather.to_csv('combined_weather.csv', index=False)\n",
        "print(\"Combined weather file has been saved as 'combined_weather.csv'.\")\n",
        "\n"
      ]
    },
    {
      "cell_type": "code",
      "source": [
        "\n",
        "# Load the dataset\n",
        "file_path = 'combined_weather.csv'  # Replace with your dataset path\n",
        "data = pd.read_csv(file_path)\n",
        "\n",
        "# Preview the dataset\n",
        "print(\"Dataset Preview:\")\n",
        "print(data.head())\n",
        "print(\"\\nDataset Info:\")\n",
        "print(data.info())\n"
      ],
      "metadata": {
        "id": "9Hk65Ya3pfuA",
        "outputId": "2e7a0dac-6b70-4f90-c3c8-e3b8bd782792",
        "colab": {
          "base_uri": "https://localhost:8080/"
        }
      },
      "execution_count": 5,
      "outputs": [
        {
          "output_type": "stream",
          "name": "stdout",
          "text": [
            "Dataset Preview:\n",
            "       Date  Temperature  Precipitation  Humidity  \\\n",
            "0  20190101        26.90           0.85     75.50   \n",
            "1  20190102        26.55           0.33     75.00   \n",
            "2  20190103        26.70           0.12     73.31   \n",
            "3  20190104        26.61           0.08     72.19   \n",
            "4  20190105        26.73           0.24     75.94   \n",
            "\n",
            "           Suitable_Plant_Type Location  \n",
            "0  Root Vegetables / Cucurbits    Galle  \n",
            "1  Root Vegetables / Cucurbits    Galle  \n",
            "2  Root Vegetables / Cucurbits    Galle  \n",
            "3  Root Vegetables / Cucurbits    Galle  \n",
            "4  Root Vegetables / Cucurbits    Galle  \n",
            "\n",
            "Dataset Info:\n",
            "<class 'pandas.core.frame.DataFrame'>\n",
            "RangeIndex: 3652 entries, 0 to 3651\n",
            "Data columns (total 6 columns):\n",
            " #   Column               Non-Null Count  Dtype  \n",
            "---  ------               --------------  -----  \n",
            " 0   Date                 3652 non-null   int64  \n",
            " 1   Temperature          3652 non-null   float64\n",
            " 2   Precipitation        3652 non-null   float64\n",
            " 3   Humidity             3652 non-null   float64\n",
            " 4   Suitable_Plant_Type  3652 non-null   object \n",
            " 5   Location             3652 non-null   object \n",
            "dtypes: float64(3), int64(1), object(2)\n",
            "memory usage: 171.3+ KB\n",
            "None\n"
          ]
        }
      ]
    },
    {
      "cell_type": "code",
      "source": [
        "# Check for missing values\n",
        "print(\"Missing values in each column:\")\n",
        "print(data.isnull().sum())\n",
        "\n",
        "# Drop rows with missing target values, if applicable\n",
        "data = data.dropna(subset=['Suitable_Plant_Type'])  # Replace 'target_column' with the column name for plant type\n",
        "\n",
        "# Fill missing values for weather data columns with the mean or median\n",
        "# Update weather_columns to reflect the actual column names in your DataFrame\n",
        "weather_columns = ['Temperature', 'Humidity', 'Precipitation']  # Assuming column names are 'Temperature', 'Humidity', 'Rainfall'\n",
        "for col in weather_columns:\n",
        "    data[col].fillna(data[col].mean(), inplace=True)\n",
        "\n",
        "# Verify if missing values are handled\n",
        "print(\"\\nMissing values after handling:\")\n",
        "print(data.isnull().sum())"
      ],
      "metadata": {
        "id": "VTxGG00upkRw",
        "outputId": "aa1e9e9b-cdbc-4f4c-a38c-de1fb815f308",
        "colab": {
          "base_uri": "https://localhost:8080/"
        }
      },
      "execution_count": 9,
      "outputs": [
        {
          "output_type": "stream",
          "name": "stdout",
          "text": [
            "Missing values in each column:\n",
            "Date                   0\n",
            "Temperature            0\n",
            "Precipitation          0\n",
            "Humidity               0\n",
            "Suitable_Plant_Type    0\n",
            "Location               0\n",
            "dtype: int64\n",
            "\n",
            "Missing values after handling:\n",
            "Date                   0\n",
            "Temperature            0\n",
            "Precipitation          0\n",
            "Humidity               0\n",
            "Suitable_Plant_Type    0\n",
            "Location               0\n",
            "dtype: int64\n"
          ]
        },
        {
          "output_type": "stream",
          "name": "stderr",
          "text": [
            "<ipython-input-9-cb6bfff910c0>:12: FutureWarning: A value is trying to be set on a copy of a DataFrame or Series through chained assignment using an inplace method.\n",
            "The behavior will change in pandas 3.0. This inplace method will never work because the intermediate object on which we are setting values always behaves as a copy.\n",
            "\n",
            "For example, when doing 'df[col].method(value, inplace=True)', try using 'df.method({col: value}, inplace=True)' or df[col] = df[col].method(value) instead, to perform the operation inplace on the original object.\n",
            "\n",
            "\n",
            "  data[col].fillna(data[col].mean(), inplace=True)\n"
          ]
        }
      ]
    },
    {
      "cell_type": "code",
      "source": [
        "# Encode the target variable (plant type) if it's categorical\n",
        "from sklearn.preprocessing import LabelEncoder\n",
        "\n",
        "label_encoder = LabelEncoder()\n",
        "data['target_column'] = label_encoder.fit_transform(data['Suitable_Plant_Type'])  # Replace 'target_column' with your column name\n",
        "\n",
        "# Verify encoding\n",
        "print(\"\\nEncoded Target Values:\")\n",
        "print(data['target_column'].unique())\n"
      ],
      "metadata": {
        "id": "k8bi3cFEpmMP",
        "outputId": "2321fd34-e0d7-42f2-9495-386d289b91f5",
        "colab": {
          "base_uri": "https://localhost:8080/"
        }
      },
      "execution_count": 10,
      "outputs": [
        {
          "output_type": "stream",
          "name": "stdout",
          "text": [
            "\n",
            "Encoded Target Values:\n",
            "[1 0]\n"
          ]
        }
      ]
    },
    {
      "cell_type": "code",
      "source": [
        "# Define features (X) and target (y)\n",
        "X = data[['Temperature', 'Humidity', 'Precipitation']]  # Replace with your actual weather columns\n",
        "y = data['Suitable_Plant_Type']  # Replace with the encoded target column name\n",
        "\n",
        "# Display feature and target shapes\n",
        "print(\"\\nFeatures shape:\", X.shape)\n",
        "print(\"Target shape:\", y.shape)\n"
      ],
      "metadata": {
        "id": "92JRs5PypoB3",
        "outputId": "235b6558-79a6-47b4-c95a-15ba688f62b4",
        "colab": {
          "base_uri": "https://localhost:8080/"
        }
      },
      "execution_count": 13,
      "outputs": [
        {
          "output_type": "stream",
          "name": "stdout",
          "text": [
            "\n",
            "Features shape: (3652, 3)\n",
            "Target shape: (3652,)\n"
          ]
        }
      ]
    },
    {
      "cell_type": "code",
      "source": [
        "# Split data into training and testing sets\n",
        "X_train, X_test, y_train, y_test = train_test_split(X, y, test_size=0.2, random_state=42)\n",
        "\n",
        "# Display dataset sizes\n",
        "print(\"\\nTraining Set Size:\", X_train.shape)\n",
        "print(\"Testing Set Size:\", X_test.shape)\n"
      ],
      "metadata": {
        "id": "pNSWnFAQppfX",
        "outputId": "165d0858-29bb-42b4-eb47-4e7bf449a029",
        "colab": {
          "base_uri": "https://localhost:8080/"
        }
      },
      "execution_count": 14,
      "outputs": [
        {
          "output_type": "stream",
          "name": "stdout",
          "text": [
            "\n",
            "Training Set Size: (2921, 3)\n",
            "Testing Set Size: (731, 3)\n"
          ]
        }
      ]
    },
    {
      "cell_type": "code",
      "source": [
        "# Initialize the Random Forest classifier\n",
        "model = RandomForestClassifier(n_estimators=100, random_state=42)\n",
        "\n",
        "# Train the model\n",
        "model.fit(X_train, y_train)\n",
        "\n",
        "# Print feature importance\n",
        "print(\"\\nFeature Importance:\")\n",
        "for feature, importance in zip(X.columns, model.feature_importances_):\n",
        "    print(f\"{feature}: {importance:.4f}\")\n"
      ],
      "metadata": {
        "id": "jDhGMrp2psnP",
        "outputId": "90de683b-db6c-48b4-a0f1-5c738c634fa1",
        "colab": {
          "base_uri": "https://localhost:8080/"
        }
      },
      "execution_count": 15,
      "outputs": [
        {
          "output_type": "stream",
          "name": "stdout",
          "text": [
            "\n",
            "Feature Importance:\n",
            "Temperature: 0.4868\n",
            "Humidity: 0.2830\n",
            "Precipitation: 0.2302\n"
          ]
        }
      ]
    },
    {
      "cell_type": "code",
      "source": [
        "# Make predictions on the test set\n",
        "y_pred = model.predict(X_test)\n",
        "\n",
        "# Calculate accuracy\n",
        "accuracy = accuracy_score(y_test, y_pred)\n",
        "print(\"\\nAccuracy:\", accuracy)\n",
        "\n",
        "# Print classification report\n",
        "print(\"\\nClassification Report:\")\n",
        "print(classification_report(y_test, y_pred))\n",
        "\n",
        "# Display confusion matrix\n",
        "conf_matrix = confusion_matrix(y_test, y_pred)\n",
        "sns.heatmap(conf_matrix, annot=True, fmt='d', cmap='Blues')\n",
        "plt.title(\"Confusion Matrix\")\n",
        "plt.xlabel(\"Predicted\")\n",
        "plt.ylabel(\"Actual\")\n",
        "plt.show()\n"
      ],
      "metadata": {
        "id": "zUKKjvDUpuLA",
        "outputId": "229e5f2a-5cf8-4c4e-a153-100bfb0543cb",
        "colab": {
          "base_uri": "https://localhost:8080/",
          "height": 708
        }
      },
      "execution_count": 16,
      "outputs": [
        {
          "output_type": "stream",
          "name": "stdout",
          "text": [
            "\n",
            "Accuracy: 0.786593707250342\n",
            "\n",
            "Classification Report:\n",
            "                             precision    recall  f1-score   support\n",
            "\n",
            " Leafy Greens / Nightshades       0.79      0.74      0.77       343\n",
            "Root Vegetables / Cucurbits       0.78      0.82      0.80       388\n",
            "\n",
            "                   accuracy                           0.79       731\n",
            "                  macro avg       0.79      0.78      0.78       731\n",
            "               weighted avg       0.79      0.79      0.79       731\n",
            "\n"
          ]
        },
        {
          "output_type": "display_data",
          "data": {
            "text/plain": [
              "<Figure size 640x480 with 2 Axes>"
            ],
            "image/png": "[encoded data removed]"
          },
          "metadata": {}
        }
      ]
    },
    {
      "cell_type": "code",
      "source": [
        "# Example input data (replace with actual data for prediction)\n",
        "new_data = pd.DataFrame({\n",
        "    'Temperature': [28, 30],  # Replace with new temperature values\n",
        "    'Humidity': [70, 65],    # Replace with new humidity values\n",
        "    'Precipitation': [150, 100]   # Replace with new rainfall values\n",
        "})\n",
        "\n",
        "# Get prediction probabilities\n",
        "prediction_probabilities = model.predict_proba(new_data)\n",
        "\n",
        "# Set a confidence threshold (e.g., 0.7)\n",
        "confidence_threshold = 0.7\n",
        "\n",
        "decoded_predictions = []\n",
        "for i, prediction in enumerate(predictions):\n",
        "    # Get the maximum probability for the prediction\n",
        "    max_probability = prediction_probabilities[i].max()\n",
        "\n",
        "    if max_probability >= confidence_threshold:\n",
        "        try:\n",
        "            decoded_prediction = label_encoder_for_decoding.inverse_transform([prediction])[0]\n",
        "            decoded_predictions.append(decoded_prediction)\n",
        "        except ValueError:\n",
        "            print(f\"Warning: Predicted plant type '{prediction}' not in training data. Handling as unknown.\")\n",
        "            decoded_predictions.append(\"Unknown\")  # Or any other placeholder for unknown values\n",
        "    else:\n",
        "        decoded_predictions.append(\"Unknown (Low Confidence)\")\n",
        "\n",
        "# Print the decoded predictions\n",
        "print(\"\\nPredicted Plant Types for New Data:\")\n",
        "print(decoded_predictions)"
      ],
      "metadata": {
        "id": "_dB9sus5pwBP",
        "outputId": "bc9c34ee-f10d-4141-96ed-8a501ce5cff0",
        "colab": {
          "base_uri": "https://localhost:8080/"
        }
      },
      "execution_count": 23,
      "outputs": [
        {
          "output_type": "stream",
          "name": "stdout",
          "text": [
            "\n",
            "Predicted Plant Types for New Data:\n",
            "['Unknown (Low Confidence)', 'Unknown (Low Confidence)']\n"
          ]
        }
      ]
    },
    {
      "cell_type": "code",
      "source": [
        "import joblib\n",
        "\n",
        "# Save the trained model\n",
        "joblib.dump(model, 'random_forest_model.pkl')\n",
        "\n",
        "# Load the model later for prediction\n",
        "loaded_model = joblib.load('random_forest_model.pkl')\n"
      ],
      "metadata": {
        "id": "_tiCwJDppxoX"
      },
      "execution_count": 24,
      "outputs": []
    }
  ]
}