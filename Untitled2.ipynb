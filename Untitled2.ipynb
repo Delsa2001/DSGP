{
  "nbformat": 4,
  "nbformat_minor": 0,
  "metadata": {
    "colab": {
      "provenance": [],
      "authorship_tag": "ABX9TyP+fZkoFinilxDap1kjyTvz",
      "include_colab_link": true
    },
    "kernelspec": {
      "name": "python3",
      "display_name": "Python 3"
    },
    "language_info": {
      "name": "python"
    }
  },
  "cells": [
    {
      "cell_type": "markdown",
      "metadata": {
        "id": "view-in-github",
        "colab_type": "text"
      },
      "source": [
        "<a href=\"https://colab.research.google.com/github/Delsa2001/DSGP/blob/Deshan/Untitled2.ipynb\" target=\"_parent\"><img src=\"https://colab.research.google.com/assets/colab-badge.svg\" alt=\"Open In Colab\"/></a>"
      ]
    },
    {
      "cell_type": "code",
      "execution_count": null,
      "metadata": {
        "id": "TY6b6WCBRR7x"
      },
      "outputs": [],
      "source": [
        "# Importing libraries\n",
        "import pandas as pd\n",
        "import numpy as np\n",
        "from sklearn.model_selection import train_test_split\n",
        "from sklearn.ensemble import RandomForestClassifier\n",
        "from sklearn.metrics import accuracy_score, classification_report\n",
        "\n",
        "# Load the dataset (example format: CSV file with weather data and suitable vegetables)\n",
        "# Columns: ['temperature', 'rainfall', 'humidity', 'location', 'vegetable']\n",
        "data = pd.read_csv(\"weather_vegetable_data.csv\")\n",
        "\n",
        "# Example dataset structure:\n",
        "# temperature | rainfall | humidity | location | vegetable\n",
        "#      30     |   200    |    70    |  Colombo | Tomato\n",
        "\n",
        "# Preprocessing\n",
        "# Convert categorical columns to numerical values if necessary\n",
        "data = pd.get_dummies(data, columns=['location'], drop_first=True)\n",
        "\n",
        "# Splitting data into features (X) and target (y)\n",
        "X = data.drop('vegetable', axis=1)\n",
        "y = data['vegetable']\n",
        "\n",
        "# Encoding target variable if it's categorical\n",
        "from sklearn.preprocessing import LabelEncoder\n",
        "le = LabelEncoder()\n",
        "y = le.fit_transform(y)\n",
        "\n",
        "# Split the dataset into training and testing sets\n",
        "X_train, X_test, y_train, y_test = train_test_split(X, y, test_size=0.2, random_state=42)\n",
        "\n",
        "# Model training\n",
        "rf_model = RandomForestClassifier(n_estimators=100, random_state=42)\n",
        "rf_model.fit(X_train, y_train)\n",
        "\n",
        "# Predictions\n",
        "y_pred = rf_model.predict(X_test)\n",
        "\n",
        "# Evaluation\n",
        "accuracy = accuracy_score(y_test, y_pred)\n",
        "print(f\"Model Accuracy: {accuracy:.2f}\")\n",
        "print(\"\\nClassification Report:\\n\", classification_report(y_test, y_pred, target_names=le.classes_))\n",
        "\n",
        "# Feature importance\n",
        "feature_importances = pd.DataFrame({\n",
        "    'Feature': X.columns,\n",
        "    'Importance': rf_model.feature_importances_\n",
        "}).sort_values(by='Importance', ascending=False)\n",
        "print(\"\\nFeature Importances:\\n\", feature_importances)\n"
      ]
    }
  ]
}